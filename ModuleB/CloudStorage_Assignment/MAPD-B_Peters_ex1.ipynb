{
 "cells": [
  {
   "cell_type": "markdown",
   "metadata": {},
   "source": [
    "<img align=\"right\" width=\"200\" height=\"200\" src=\"https://avatars3.githubusercontent.com/u/43672704?s=400&u=7f10d18e6375065a2bd501c9cfd59a2ac6ad0f80&v=4\">\n",
    "\n",
    "# MAPD B final project - Data Management\n",
    "\n",
    "**Authors:**\n",
    "* Alessandro Lambertini - ID: 1242885\n",
    "* Michele Guadagnini    - ID: 1230663\n"
   ]
  },
  {
   "cell_type": "markdown",
   "metadata": {},
   "source": [
    "# Exercise 1 - Redundancy"
   ]
  },
  {
   "cell_type": "markdown",
   "metadata": {},
   "source": [
    "We are programming a file based RAID-4 software algorithm. For this purpose we are converting a single input (`raid4.input`) file into four data files `raid4.0, raid4.1, raid4.2, raid4.3` and one parity file `raid4.4` - the four data and one parity file are called *stripe files*. <br>\n",
    "\n",
    "To do this we are reading in a loop sequentially blocks of four bytes from the input file until the whole file is read:\n",
    "* in each loop we write one of the four read bytes round-robin to each data file, compute the parity of the four input bytes and write the result into the fifth parity file.\n",
    "* we continue until all input data has been read. If the last bytes read from the input file are not filling four bytes, we consider the missing bytes as zero for the parity computation.\n"
   ]
  },
  {
   "cell_type": "code",
   "execution_count": 1,
   "metadata": {},
   "outputs": [],
   "source": [
    "# import needed libraries\n",
    "import os"
   ]
  },
  {
   "cell_type": "markdown",
   "metadata": {},
   "source": [
    "## Full exercise code"
   ]
  },
  {
   "cell_type": "markdown",
   "metadata": {},
   "source": [
    "Here we report the full code of the whole exercise. All the assignment points from **1.1** to **1.5** will be answered below."
   ]
  },
  {
   "cell_type": "code",
   "execution_count": 2,
   "metadata": {},
   "outputs": [],
   "source": [
    "filename = \"raid4.input\"\n",
    "chunk_size = 4\n",
    "\n",
    "cols_parity = [0,0,0,0,0] # list for column-wise parities\n",
    "SumP6 = 0                 # sum of parity of the five stripe files (6th-parity)\n",
    "\n",
    "# creating the stripe files\n",
    "raid40 = open(\"raid4.0\", \"wb\")\n",
    "raid41 = open(\"raid4.1\", \"wb\")\n",
    "raid42 = open(\"raid4.2\", \"wb\")\n",
    "raid43 = open(\"raid4.3\", \"wb\")\n",
    "raid44 = open(\"raid4.4\", \"wb\")\n",
    "\n",
    "# loading input file\n",
    "with open(filename, \"rb\") as fin:\n",
    "    AllBytes = fin.read()\n",
    "    \n",
    "for i in range(0,len(AllBytes),chunk_size):\n",
    "    chunk = AllBytes[i:i+chunk_size]\n",
    "    \n",
    "    if (len(chunk)<4):\n",
    "        chunk += (0).to_bytes(1,'big') # padding\n",
    "    \n",
    "    # filling stripe files\n",
    "    raid40.write(chunk[0].to_bytes(1, byteorder='big'))\n",
    "    raid41.write(chunk[1].to_bytes(1, byteorder='big'))\n",
    "    raid42.write(chunk[2].to_bytes(1, byteorder='big'))\n",
    "    raid43.write(chunk[3].to_bytes(1, byteorder='big'))\n",
    "     \n",
    "    # row-wise parity stripe file\n",
    "    parity = 0\n",
    "    for j in chunk:\n",
    "        parity ^= j\n",
    "    raid44.write(parity.to_bytes(1, byteorder='big'))\n",
    "    \n",
    "    # column-wise parity calculation\n",
    "    for k in range(len(chunk)):\n",
    "        cols_parity[k] ^= chunk[k]\n",
    "    cols_parity[4] ^= parity\n",
    "    \n",
    "    # 6th-parity calculation\n",
    "    parity6th = 0\n",
    "    for j in chunk:\n",
    "        parity6th ^= j\n",
    "    parity6th ^= parity\n",
    "    \n",
    "    # updating the sum of 6th-parity\n",
    "    SumP6 += parity6th\n",
    "    \n",
    "raid40.close()\n",
    "raid41.close()\n",
    "raid42.close()\n",
    "raid43.close()\n",
    "raid44.close()\n"
   ]
  },
  {
   "cell_type": "markdown",
   "metadata": {},
   "source": [
    "## 1.1) Produce the stripe files"
   ]
  },
  {
   "cell_type": "markdown",
   "metadata": {},
   "source": [
    "The program has created the five stripe files. Here is a check: the first column represent the size of the file."
   ]
  },
  {
   "cell_type": "code",
   "execution_count": 3,
   "metadata": {},
   "outputs": [
    {
     "name": "stdout",
     "output_type": "stream",
     "text": [
      " 44K raid4.0\r\n",
      " 44K raid4.1\r\n",
      " 44K raid4.2\r\n",
      " 44K raid4.3\r\n",
      " 44K raid4.4\r\n",
      "168K raid4.input\r\n"
     ]
    }
   ],
   "source": [
    "!ls -sh | grep \"raid4\\.\""
   ]
  },
  {
   "cell_type": "markdown",
   "metadata": {},
   "source": [
    "## 1.2) Column-wise parities and size overhead"
   ]
  },
  {
   "cell_type": "markdown",
   "metadata": {},
   "source": [
    "Column-wise parity acts as a *checksum* for each stripe file. Indeed, *checksum* consists in summing up all the bits and storing it somewhere. In this way, to check the file integrity after a transmission it is possible to do again the *checksum* and compare its result with the previous one. If it is different it means that some corruption occurred during transmission."
   ]
  },
  {
   "cell_type": "code",
   "execution_count": 4,
   "metadata": {},
   "outputs": [
    {
     "name": "stdout",
     "output_type": "stream",
     "text": [
      "Column-wise parities:  ['0xa5', '0x7', '0xa0', '0x9b', '0x99']\n",
      "The size overhead is: 25.00 %\n"
     ]
    }
   ],
   "source": [
    "# column-wise parities\n",
    "print(\"Column-wise parities: \", [hex(p) for p in cols_parity])\n",
    "\n",
    "# checking the size overhead\n",
    "InputSize = os.stat(filename).st_size\n",
    "\n",
    "AllStripeFiles = 0\n",
    "for i in range(5):\n",
    "    name = \"raid4.\"+str(i)\n",
    "    AllStripeFiles += os.stat(name).st_size\n",
    "    \n",
    "print(\"The size overhead is: {:.2f} %\".format((AllStripeFiles-InputSize)/InputSize * 100))"
   ]
  },
  {
   "cell_type": "markdown",
   "metadata": {},
   "source": [
    "## 1.3) 5-byte parity in hex format"
   ]
  },
  {
   "cell_type": "markdown",
   "metadata": {},
   "source": [
    "We just need to stick together the column-wise parities obtained above, taking care of padding with 0 when needed."
   ]
  },
  {
   "cell_type": "code",
   "execution_count": 5,
   "metadata": {},
   "outputs": [
    {
     "name": "stdout",
     "output_type": "stream",
     "text": [
      "5-byte parity is:  0xa507a09b99\n"
     ]
    }
   ],
   "source": [
    "# 5-byte parity\n",
    "P5 = \"0x\"+''.join('%02x'%i for i in cols_parity)\n",
    "print(\"5-byte parity is: \", P5)"
   ]
  },
  {
   "cell_type": "markdown",
   "metadata": {},
   "source": [
    "## 1.4) 6th stripe file"
   ]
  },
  {
   "cell_type": "markdown",
   "metadata": {},
   "source": [
    "The content of a 6th stripe file containing the row-wise parity of the five stripe files would be all zeros. <br>\n",
    "Indeed, naming a byte of each of the four stripe files as *X,Y,Z,T* and a byte of the parity file as *P* : <br>\n",
    "`6thParity = X^Y^Z^T^P` , but since `P = X^Y^Z^T` , we have that `6thParity = P^P = 0`\n",
    "\n",
    "To check this, we have computed the sum of all the bytes of this 6th stripe file."
   ]
  },
  {
   "cell_type": "code",
   "execution_count": 6,
   "metadata": {},
   "outputs": [
    {
     "name": "stdout",
     "output_type": "stream",
     "text": [
      "The sum of all the parity bits in the 6th stripe file is:  0\n"
     ]
    }
   ],
   "source": [
    "print(\"The sum of all the parity bits in the 6th stripe file is: \", SumP6)"
   ]
  },
  {
   "cell_type": "markdown",
   "metadata": {},
   "source": [
    "## 1.5) File reconstruction"
   ]
  },
  {
   "cell_type": "markdown",
   "metadata": {},
   "source": [
    "Comparing the 5-byte obtained before ( `0xa507a09b99` ) with the one provided by the exercise ( `0xff07a09b99` ) we can see that the corrupted stripe file is the first one, since it is the only one with a different column-wise parity.\n",
    "\n",
    "So we can use all the other stripe files and also the parity file to reconstruct it. Naming *X, Y, Z, T* the stripe bytes and *P* the parity one, we can reconstruct *X* by doing: `X = P^Y^Z^T`. Indeed: <br>\n",
    "`P^Y^Z^T = (X^Y^Z^T)^Y^Z^T = X^(Y^Y)^(Z^Z)^(T^T) = X^0^0^0 = X`\n",
    "\n",
    "Once reconstructed the first stripe file, we can rebuild the original file by putting together the stripe files following the correct order. \n",
    "\n",
    "Since we padded the last stripe file with an additional 0 byte to have all the stripes with the same lenght, the reconstructed input file is not exactly equal without removing this last byte. So, for perfect reconstruction, it would be useful to store somewhere also the original size of the input file."
   ]
  },
  {
   "cell_type": "code",
   "execution_count": 7,
   "metadata": {},
   "outputs": [],
   "source": [
    "# reconstruction of first stripe file raid4.0\n",
    "raid41 = open(\"raid4.1\", \"rb\")\n",
    "raid42 = open(\"raid4.2\", \"rb\")\n",
    "raid43 = open(\"raid4.3\", \"rb\")\n",
    "raid44 = open(\"raid4.4\", \"rb\")\n",
    "\n",
    "# loading the stripe files\n",
    "stripe1 = raid41.read()\n",
    "stripe2 = raid42.read()\n",
    "stripe3 = raid43.read()\n",
    "parity  = raid44.read()\n",
    "\n",
    "raid41.close()\n",
    "raid42.close()\n",
    "raid43.close()\n",
    "raid44.close()\n",
    "\n",
    "# reconstruction of first stripe\n",
    "stripe0_reconstructed = []\n",
    "for (y,z,t,p) in zip(stripe1,stripe2,stripe3,parity):\n",
    "    stripe0_reconstructed.append( y^z^t^p )\n",
    "    \n",
    "# saving the reconstructed first stripe\n",
    "with open(\"raid4_reconstructed.0\",\"wb+\") as outfile:\n",
    "    for ii in bytes(stripe0_reconstructed):\n",
    "        outfile.write(ii.to_bytes(1, byteorder='big'))\n",
    "        \n",
    "# reconstruction of original input file\n",
    "input_reconstructed = []\n",
    "for (x,y,z,t) in zip(stripe0_reconstructed,stripe1,stripe2,stripe3):\n",
    "    input_reconstructed.append(x)\n",
    "    input_reconstructed.append(y)\n",
    "    input_reconstructed.append(z)\n",
    "    input_reconstructed.append(t)\n",
    "    \n",
    "# saving the reconstructed input file\n",
    "with open(\"raid4_reconstructed.input\",\"wb+\") as outfile:\n",
    "    for ii in bytes(input_reconstructed):  \n",
    "        outfile.write(ii.to_bytes(1, byteorder='big'))\n",
    "        "
   ]
  },
  {
   "cell_type": "code",
   "execution_count": 8,
   "metadata": {},
   "outputs": [
    {
     "name": "stdout",
     "output_type": "stream",
     "text": [
      "Files raid4_reconstructed.0 and raid4.0 are identical\r\n"
     ]
    }
   ],
   "source": [
    "# check difference between original and reconstructed first stripe\n",
    "!diff -s raid4_reconstructed.0 raid4.0"
   ]
  },
  {
   "cell_type": "markdown",
   "metadata": {},
   "source": [
    "In order to perfectly reconstruct the original file, we needed to remove the last byte coming from the last stripe, since it comes from padding."
   ]
  },
  {
   "cell_type": "code",
   "execution_count": 9,
   "metadata": {},
   "outputs": [
    {
     "name": "stdout",
     "output_type": "stream",
     "text": [
      "Binary files raid4_reconstructed.input and raid4.input differ\r\n"
     ]
    }
   ],
   "source": [
    "# check difference between original and reconstructed input file\n",
    "!diff -s raid4_reconstructed.input raid4.input"
   ]
  },
  {
   "cell_type": "code",
   "execution_count": 10,
   "metadata": {},
   "outputs": [
    {
     "name": "stdout",
     "output_type": "stream",
     "text": [
      "Files raid4_reconstructed.input and raid4.input are identical\r\n"
     ]
    }
   ],
   "source": [
    "# saving the reconstructed input file without last byte\n",
    "with open(\"raid4_reconstructed.input\",\"wb+\") as outfile:\n",
    "    # below we added [:-1] to remove the last byte used for padding the last stripe\n",
    "    for ii in bytes(input_reconstructed[:-1]):  \n",
    "        outfile.write(ii.to_bytes(1, byteorder='big'))\n",
    "        \n",
    "# check difference between original and reconstructed input file\n",
    "!diff -s raid4_reconstructed.input raid4.input"
   ]
  }
 ],
 "metadata": {
  "kernelspec": {
   "display_name": "Python 3",
   "language": "python",
   "name": "python3"
  },
  "language_info": {
   "codemirror_mode": {
    "name": "ipython",
    "version": 3
   },
   "file_extension": ".py",
   "mimetype": "text/x-python",
   "name": "python",
   "nbconvert_exporter": "python",
   "pygments_lexer": "ipython3",
   "version": "3.7.4"
  }
 },
 "nbformat": 4,
 "nbformat_minor": 4
}
